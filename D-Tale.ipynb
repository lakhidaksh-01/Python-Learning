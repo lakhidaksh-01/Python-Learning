{
 "cells": [
  {
   "cell_type": "code",
   "execution_count": 1,
   "metadata": {},
   "outputs": [],
   "source": [
    "# D-Tale is a Python tool that opens a browser-based GUI (Graphical User Interface) to help you interact with\n",
    "# Pandas DataFrames — without writing any analysis code manually.\n",
    "\n",
    "import pandas as pd\n",
    "import dtale\n",
    "\n",
    "df = pd.read_csv(\"sample2.csv\")\n",
    "d = dtale.show(df)\n",
    "d.open_browser()\n"
   ]
  }
 ],
 "metadata": {
  "kernelspec": {
   "display_name": "Python 3",
   "language": "python",
   "name": "python3"
  },
  "language_info": {
   "codemirror_mode": {
    "name": "ipython",
    "version": 3
   },
   "file_extension": ".py",
   "mimetype": "text/x-python",
   "name": "python",
   "nbconvert_exporter": "python",
   "pygments_lexer": "ipython3",
   "version": "3.13.1"
  }
 },
 "nbformat": 4,
 "nbformat_minor": 2
}
