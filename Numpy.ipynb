{
 "cells": [
  {
   "cell_type": "raw",
   "metadata": {
    "vscode": {
     "languageId": "raw"
    }
   },
   "source": [
    "NumPy (Numerical Python) is a library for numerical computing.\n",
    "Provides fast, efficient operations on large datasets using arrays.\n",
    "\n",
    "pip install numpy # Install NumPy\n",
    "\n",
    "\n",
    "Note: ndarray: NumPy’s main object for handling arrays.\n",
    "      Faster & more memory-efficient than Python lists."
   ]
  },
  {
   "cell_type": "raw",
   "metadata": {
    "vscode": {
     "languageId": "raw"
    }
   },
   "source": [
    "CREATE"
   ]
  },
  {
   "cell_type": "code",
   "execution_count": 1,
   "metadata": {},
   "outputs": [
    {
     "name": "stdout",
     "output_type": "stream",
     "text": [
      "[[[0.33117967 0.86829679 0.49085853 0.04744169]\n",
      "  [0.88805473 0.33603573 0.75921775 0.85961298]\n",
      "  [0.71632394 0.50335354 0.48427392 0.12393527]]\n",
      "\n",
      " [[0.68817798 0.12406681 0.3132038  0.61429414]\n",
      "  [0.48523814 0.6865559  0.54381769 0.73228699]\n",
      "  [0.2504352  0.54336959 0.92981757 0.71872534]]]\n"
     ]
    }
   ],
   "source": [
    "import pandas as pd\n",
    "import numpy as np\n",
    "\n",
    "data=np.random.rand(2,3,4)\n",
    "zeros=np.zeros((2,2,2))\n",
    "ones=np.ones((2,2,2))\n",
    "full=np.full((2,2,2),7)\n",
    "\n",
    "'''\n",
    "print(zeros)\n",
    "print(ones)\n",
    "print(full)\n",
    "'''\n",
    "print(data)"
   ]
  },
  {
   "cell_type": "code",
   "execution_count": 2,
   "metadata": {},
   "outputs": [
    {
     "name": "stdout",
     "output_type": "stream",
     "text": [
      "[[1 2 3 4]\n",
      " [5 6 7 8]]\n"
     ]
    }
   ],
   "source": [
    "arr=np.array([[1,2,3,4],[5,6,7,8]])\n",
    "type(arr)\n",
    "print(arr)"
   ]
  },
  {
   "cell_type": "raw",
   "metadata": {
    "vscode": {
     "languageId": "raw"
    }
   },
   "source": [
    "READ"
   ]
  },
  {
   "cell_type": "code",
   "execution_count": 3,
   "metadata": {},
   "outputs": [
    {
     "name": "stdout",
     "output_type": "stream",
     "text": [
      "(2, 3, 4)\n",
      "24\n",
      "float64\n"
     ]
    }
   ],
   "source": [
    "# Attributes\n",
    "shape=data.shape\n",
    "size=data.size\n",
    "dtype=data.dtype\n",
    "\n",
    "print(shape)\n",
    "print(size)\n",
    "print(dtype)"
   ]
  },
  {
   "cell_type": "raw",
   "metadata": {
    "vscode": {
     "languageId": "raw"
    }
   },
   "source": [
    "Slicing\n",
    "\n",
    "arr[start:end:step]\n",
    "\n",
    "start → Index where slicing begins (default: 0).\n",
    "end → Index where slicing stops (not included).\n",
    "step → Skips elements (default: 1)."
   ]
  },
  {
   "cell_type": "code",
   "execution_count": 4,
   "metadata": {},
   "outputs": [
    {
     "name": "stdout",
     "output_type": "stream",
     "text": [
      "[20 30 40]\n",
      "[10 20 30]\n",
      "[30 40 50]\n",
      "[10 30 50]\n",
      "[50 40 30 20 10]\n"
     ]
    }
   ],
   "source": [
    "# 1D Array Slicing\n",
    "\n",
    "arr1d=np.array([10,20,30,40,50])\n",
    "\n",
    "print(arr1d[1:4])\n",
    "print(arr1d[:3])\n",
    "print(arr1d[2:])\n",
    "print(arr1d[::2])\n",
    "print(arr1d[::-1])"
   ]
  },
  {
   "cell_type": "code",
   "execution_count": 5,
   "metadata": {},
   "outputs": [
    {
     "name": "stdout",
     "output_type": "stream",
     "text": [
      "[[1 2 3]\n",
      " [4 5 6]\n",
      " [7 8 9]]\n",
      "[[1 2 3]]\n",
      "[[4 5]\n",
      " [7 8]]\n"
     ]
    }
   ],
   "source": [
    "# 2D Array Slicing\n",
    "\n",
    "arr2d=np.array([[1,2,3],\n",
    "               [4,5,6],\n",
    "               [7,8,9]])\n",
    "\n",
    "print(arr2d[0:]) # Prints all rows\n",
    "print(arr2d[:1]) # Prints first row\n",
    "print(arr2d[1:3,0:2]) # Extracts sub-matrix"
   ]
  },
  {
   "cell_type": "code",
   "execution_count": 6,
   "metadata": {},
   "outputs": [
    {
     "name": "stdout",
     "output_type": "stream",
     "text": [
      "[30 40 50]\n"
     ]
    }
   ],
   "source": [
    "# Boolean Slicing (Filtering)\n",
    "\n",
    "arr = np.array([10, 20, 30, 40, 50])\n",
    "print(arr[arr > 25])"
   ]
  },
  {
   "cell_type": "raw",
   "metadata": {
    "vscode": {
     "languageId": "raw"
    }
   },
   "source": [
    "UPDATE"
   ]
  },
  {
   "cell_type": "code",
   "execution_count": 7,
   "metadata": {},
   "outputs": [
    {
     "name": "stdout",
     "output_type": "stream",
     "text": [
      "[15 35 55 75 95]\n"
     ]
    }
   ],
   "source": [
    "arr1 = np.array([10, 20, 30, 40, 50])\n",
    "arr2 = np.array([5, 15, 25, 35, 45])\n",
    "\n",
    "# Basic Math\n",
    "add=np.add(arr1,arr2)\n",
    "sub=np.subtract(arr1,arr2)\n",
    "div=np.divide(arr1,arr2)\n",
    "mul=np.multiply(arr1,arr2)\n",
    "dot=np.dot(arr1,arr2)\n",
    "\n",
    "print(add)"
   ]
  },
  {
   "cell_type": "code",
   "execution_count": 8,
   "metadata": {},
   "outputs": [
    {
     "name": "stdout",
     "output_type": "stream",
     "text": [
      "5.0\n"
     ]
    }
   ],
   "source": [
    "# Stat Functions\n",
    "sqrt=np.sqrt(25)\n",
    "ab=np.abs(-2)\n",
    "power=np.power(2,7)\n",
    "log=np.log(25)\n",
    "exp=np.exp([2,3])\n",
    "mins=np.min(arr1)\n",
    "maxs=np.max(arr1)\n",
    "\n",
    "print(sqrt)"
   ]
  },
  {
   "cell_type": "code",
   "execution_count": 9,
   "metadata": {},
   "outputs": [
    {
     "name": "stdout",
     "output_type": "stream",
     "text": [
      "(5,)\n",
      "(2, 3)\n"
     ]
    }
   ],
   "source": [
    "# Shape\n",
    "arr1 = np.array([10, 20, 30, 40, 50])\n",
    "arr2 = np.array([[1, 2, 3],  \n",
    "                 [4, 5, 6]])\n",
    "\n",
    "print(arr1.shape)  # (5,) → 1D array with 5 elements\n",
    "print(arr2.shape)  # (2, 3) → 2D array with 2 rows & 3 columns"
   ]
  },
  {
   "cell_type": "code",
   "execution_count": 10,
   "metadata": {},
   "outputs": [
    {
     "name": "stdout",
     "output_type": "stream",
     "text": [
      "[[10 20 30]\n",
      " [40 50 60]]\n"
     ]
    }
   ],
   "source": [
    "# Reshape\n",
    "arr1 = np.array([10, 20, 30, 40, 50, 60])\n",
    "reshaped_arr=arr1.reshape(2,3)\n",
    "print(reshaped_arr)"
   ]
  },
  {
   "cell_type": "code",
   "execution_count": 11,
   "metadata": {},
   "outputs": [
    {
     "name": "stdout",
     "output_type": "stream",
     "text": [
      "[[10 20]\n",
      " [30 40]\n",
      " [50 60]]\n"
     ]
    }
   ],
   "source": [
    "# Reshape with -1 (Auto Calculation)\n",
    "arr1 = np.array([10, 20, 30, 40, 50, 60])\n",
    "reshaped_arr=arr1.reshape(3,-1) # 3 rows, NumPy calculates columns\n",
    "print(reshaped_arr)"
   ]
  },
  {
   "cell_type": "code",
   "execution_count": 12,
   "metadata": {},
   "outputs": [
    {
     "name": "stdout",
     "output_type": "stream",
     "text": [
      "[10 20 30 40 50]\n"
     ]
    },
    {
     "data": {
      "text/plain": [
       "'It can sort 2d array to but in there respective rows'"
      ]
     },
     "execution_count": 12,
     "metadata": {},
     "output_type": "execute_result"
    }
   ],
   "source": [
    "# Sort\n",
    "arr1 = np.array([30, 10, 50, 20, 40])\n",
    "sorted_arr=np.sort(arr1)\n",
    "print(sorted_arr)\n",
    "'''It can sort 2d array to but in there respective rows'''"
   ]
  },
  {
   "cell_type": "code",
   "execution_count": 13,
   "metadata": {},
   "outputs": [
    {
     "name": "stdout",
     "output_type": "stream",
     "text": [
      "[10 20 30 40 50 60]\n"
     ]
    }
   ],
   "source": [
    "# Inserting into a 1D Array\n",
    "arr1 = np.array([10, 20, 40, 50, 60])\n",
    "new_arr1=np.insert(arr1,2,30) # Insert 30 at index 2\n",
    "print(new_arr1)"
   ]
  },
  {
   "cell_type": "code",
   "execution_count": 14,
   "metadata": {},
   "outputs": [
    {
     "name": "stdout",
     "output_type": "stream",
     "text": [
      "[[1 2 3]\n",
      " [4 5 6]\n",
      " [7 8 9]]\n"
     ]
    }
   ],
   "source": [
    "# Inserting into a 2D Array\n",
    "arr2 = np.array([[1, 2, 3],  \n",
    "                  [4, 5, 6]])\n",
    "new_arr2=np.insert(arr2,2,[7, 8, 9],axis=0)\n",
    "print(new_arr2)"
   ]
  },
  {
   "cell_type": "code",
   "execution_count": 15,
   "metadata": {},
   "outputs": [
    {
     "name": "stdout",
     "output_type": "stream",
     "text": [
      "[1 2 3 4 5 6]\n"
     ]
    }
   ],
   "source": [
    "# Flatten (Convert to 1D)\n",
    "arr2d = np.array([[1, 2, 3], [4, 5, 6]])\n",
    "flat_arr = arr2d.flatten()\n",
    "print(flat_arr) "
   ]
  },
  {
   "cell_type": "raw",
   "metadata": {
    "vscode": {
     "languageId": "raw"
    }
   },
   "source": [
    "DELETE"
   ]
  },
  {
   "cell_type": "code",
   "execution_count": 16,
   "metadata": {},
   "outputs": [
    {
     "name": "stdout",
     "output_type": "stream",
     "text": [
      "[10 20 40 50]\n",
      "[10 30 50]\n",
      "[[1 2 3]\n",
      " [7 8 9]]\n",
      "[[1 2]\n",
      " [4 5]\n",
      " [7 8]]\n"
     ]
    }
   ],
   "source": [
    "arr1 = np.array([10, 20, 30, 40, 50])\n",
    "arr2d = np.array([[1, 2, 3],  \n",
    "                  [4, 5, 6],  \n",
    "                  [7, 8, 9]])\n",
    "\n",
    "# Deleting index 2 from arr1\n",
    "arr1_new = np.delete(arr1, 2)  \n",
    "print(arr1_new)  \n",
    "\n",
    "# Deleting indices 1 and 3 from arr1\n",
    "arr1_new2 = np.delete(arr1, [1, 3])  \n",
    "print(arr1_new2)  \n",
    "\n",
    "# Deleting row at index 1 from arr2d (axis=0 means row-wise deletion)\n",
    "arr2d_new = np.delete(arr2d, 1, axis=0)  \n",
    "print(arr2d_new)\n",
    "\n",
    "# Deleting column at index 2 from arr2d (axis=1 means column-wise deletion)\n",
    "arr2d_new2 = np.delete(arr2d, 2, axis=1)  \n",
    "print(arr2d_new2)"
   ]
  }
 ],
 "metadata": {
  "kernelspec": {
   "display_name": "Python 3",
   "language": "python",
   "name": "python3"
  },
  "language_info": {
   "codemirror_mode": {
    "name": "ipython",
    "version": 3
   },
   "file_extension": ".py",
   "mimetype": "text/x-python",
   "name": "python",
   "nbconvert_exporter": "python",
   "pygments_lexer": "ipython3",
   "version": "3.13.1"
  }
 },
 "nbformat": 4,
 "nbformat_minor": 2
}
